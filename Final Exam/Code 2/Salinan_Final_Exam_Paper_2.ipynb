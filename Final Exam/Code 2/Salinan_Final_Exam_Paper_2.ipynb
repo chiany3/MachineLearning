{
  "nbformat": 4,
  "nbformat_minor": 0,
  "metadata": {
    "colab": {
      "name": "Salinan Final Exam Paper 2.ipynb",
      "provenance": [],
      "collapsed_sections": []
    },
    "kernelspec": {
      "name": "python3",
      "display_name": "Python 3"
    },
    "language_info": {
      "name": "python"
    },
    "accelerator": "GPU"
  },
  "cells": [
    {
      "cell_type": "markdown",
      "source": [
        "### **Import Library**"
      ],
      "metadata": {
        "id": "x8z5IRfR9f63"
      }
    },
    {
      "cell_type": "code",
      "source": [
        "from google.colab import drive\n",
        "drive.mount('/content/drive')"
      ],
      "metadata": {
        "colab": {
          "base_uri": "https://localhost:8080/"
        },
        "id": "30JkDZFixNaJ",
        "outputId": "daca0f54-ea2f-4f8f-d2a1-8e7c0c0266c0"
      },
      "execution_count": 2,
      "outputs": [
        {
          "output_type": "stream",
          "name": "stdout",
          "text": [
            "Drive already mounted at /content/drive; to attempt to forcibly remount, call drive.mount(\"/content/drive\", force_remount=True).\n"
          ]
        }
      ]
    },
    {
      "cell_type": "code",
      "source": [
        "!pip install twython"
      ],
      "metadata": {
        "colab": {
          "base_uri": "https://localhost:8080/"
        },
        "id": "pRvG2LZH1Qc-",
        "outputId": "3bd7fe97-c276-481b-a6dc-1032f90e7bee"
      },
      "execution_count": 3,
      "outputs": [
        {
          "output_type": "stream",
          "name": "stdout",
          "text": [
            "Collecting twython\n",
            "  Downloading twython-3.9.1-py3-none-any.whl (33 kB)\n",
            "Requirement already satisfied: requests>=2.1.0 in /usr/local/lib/python3.7/dist-packages (from twython) (2.23.0)\n",
            "Requirement already satisfied: requests-oauthlib>=0.4.0 in /usr/local/lib/python3.7/dist-packages (from twython) (1.3.0)\n",
            "Requirement already satisfied: certifi>=2017.4.17 in /usr/local/lib/python3.7/dist-packages (from requests>=2.1.0->twython) (2021.10.8)\n",
            "Requirement already satisfied: chardet<4,>=3.0.2 in /usr/local/lib/python3.7/dist-packages (from requests>=2.1.0->twython) (3.0.4)\n",
            "Requirement already satisfied: idna<3,>=2.5 in /usr/local/lib/python3.7/dist-packages (from requests>=2.1.0->twython) (2.10)\n",
            "Requirement already satisfied: urllib3!=1.25.0,!=1.25.1,<1.26,>=1.21.1 in /usr/local/lib/python3.7/dist-packages (from requests>=2.1.0->twython) (1.24.3)\n",
            "Requirement already satisfied: oauthlib>=3.0.0 in /usr/local/lib/python3.7/dist-packages (from requests-oauthlib>=0.4.0->twython) (3.1.1)\n",
            "Installing collected packages: twython\n",
            "Successfully installed twython-3.9.1\n"
          ]
        }
      ]
    },
    {
      "cell_type": "code",
      "execution_count": 4,
      "metadata": {
        "id": "aahU_k5Y09Pf"
      },
      "outputs": [],
      "source": [
        "import pandas as pd\n",
        "import numpy as np\n",
        "import matplotlib.pyplot as plt\n",
        "import seaborn as sn"
      ]
    },
    {
      "cell_type": "markdown",
      "source": [
        "### **Proses Mengolah CSV melalui preprocess.py**"
      ],
      "metadata": {
        "id": "37t2bWlv9sWr"
      }
    },
    {
      "cell_type": "code",
      "source": [
        "!python2 /content/drive/MyDrive/FX_ML/Twitter-Sentiment-Analysis-main/code/preprocess.py /content/drive/MyDrive/FX_ML/Twitter-Sentiment-Analysis-main/dataset/train-processed.csv"
      ],
      "metadata": {
        "colab": {
          "base_uri": "https://localhost:8080/"
        },
        "id": "dkxtP-Bw1XSN",
        "outputId": "953e921d-3ebc-41e2-87ea-470a19007b92"
      },
      "execution_count": 5,
      "outputs": [
        {
          "output_type": "stream",
          "name": "stdout",
          "text": [
            "Processing 100000/100000\n",
            "Saved processed tweets to: /content/drive/MyDrive/FX_ML/Twitter-Sentiment-Analysis-main/dataset/train-processed-processed.csv\n"
          ]
        }
      ]
    },
    {
      "cell_type": "markdown",
      "source": [
        "### **Mengolah data menggunakan pandas**"
      ],
      "metadata": {
        "id": "bYue-w5N969n"
      }
    },
    {
      "cell_type": "code",
      "source": [
        "# Membaca data menggunakan Pandas\n",
        "df=pd.read_csv('/content/drive/MyDrive/FX_ML/Twitter-Sentiment-Analysis-main/dataset/train-processed-processed.csv')\n",
        "\n",
        "# Cek shape data yaitu berapa jumlah baris dan kolom\n",
        "print(df.shape)"
      ],
      "metadata": {
        "colab": {
          "base_uri": "https://localhost:8080/"
        },
        "id": "5Cpwxs0-1n1T",
        "outputId": "d348eb4e-f8cf-4d58-a23d-cb1f16f776e3"
      },
      "execution_count": 6,
      "outputs": [
        {
          "output_type": "stream",
          "name": "stdout",
          "text": [
            "(99999, 3)\n"
          ]
        }
      ]
    },
    {
      "cell_type": "code",
      "source": [
        "# Mengganti header di csv (sebenarnya ingin menambahkan header bukan mengganti tetapi belum menemukan caranya)\n",
        "# Awalnya header tidak ada sebetulnya , mungkin kesalahan dalam csv bawaan\n",
        "df.set_axis([\"Number\", \"TruthValue\", \"Tweet\"],axis=1,inplace=True)\n",
        "df.head()"
      ],
      "metadata": {
        "colab": {
          "base_uri": "https://localhost:8080/",
          "height": 204
        },
        "id": "bmE5-1SD2KxA",
        "outputId": "caa936c0-1a3f-4df4-f47a-6d870adc16a7"
      },
      "execution_count": 7,
      "outputs": [
        {
          "output_type": "execute_result",
          "data": {
            "text/html": [
              "\n",
              "  <div id=\"df-59f0dc27-2919-4990-bf7a-a73f681ab409\">\n",
              "    <div class=\"colab-df-container\">\n",
              "      <div>\n",
              "<style scoped>\n",
              "    .dataframe tbody tr th:only-of-type {\n",
              "        vertical-align: middle;\n",
              "    }\n",
              "\n",
              "    .dataframe tbody tr th {\n",
              "        vertical-align: top;\n",
              "    }\n",
              "\n",
              "    .dataframe thead th {\n",
              "        text-align: right;\n",
              "    }\n",
              "</style>\n",
              "<table border=\"1\" class=\"dataframe\">\n",
              "  <thead>\n",
              "    <tr style=\"text-align: right;\">\n",
              "      <th></th>\n",
              "      <th>Number</th>\n",
              "      <th>TruthValue</th>\n",
              "      <th>Tweet</th>\n",
              "    </tr>\n",
              "  </thead>\n",
              "  <tbody>\n",
              "    <tr>\n",
              "      <th>0</th>\n",
              "      <td>2</td>\n",
              "      <td>0</td>\n",
              "      <td>i missed the new moon trailer</td>\n",
              "    </tr>\n",
              "    <tr>\n",
              "      <th>1</th>\n",
              "      <td>3</td>\n",
              "      <td>1</td>\n",
              "      <td>omg its already o</td>\n",
              "    </tr>\n",
              "    <tr>\n",
              "      <th>2</th>\n",
              "      <td>4</td>\n",
              "      <td>0</td>\n",
              "      <td>omgaga im soo im gunna cry ive been at this de...</td>\n",
              "    </tr>\n",
              "    <tr>\n",
              "      <th>3</th>\n",
              "      <td>5</td>\n",
              "      <td>0</td>\n",
              "      <td>i think mi bf is cheating on me t_t</td>\n",
              "    </tr>\n",
              "    <tr>\n",
              "      <th>4</th>\n",
              "      <td>6</td>\n",
              "      <td>0</td>\n",
              "      <td>or i just worry too much</td>\n",
              "    </tr>\n",
              "  </tbody>\n",
              "</table>\n",
              "</div>\n",
              "      <button class=\"colab-df-convert\" onclick=\"convertToInteractive('df-59f0dc27-2919-4990-bf7a-a73f681ab409')\"\n",
              "              title=\"Convert this dataframe to an interactive table.\"\n",
              "              style=\"display:none;\">\n",
              "        \n",
              "  <svg xmlns=\"http://www.w3.org/2000/svg\" height=\"24px\"viewBox=\"0 0 24 24\"\n",
              "       width=\"24px\">\n",
              "    <path d=\"M0 0h24v24H0V0z\" fill=\"none\"/>\n",
              "    <path d=\"M18.56 5.44l.94 2.06.94-2.06 2.06-.94-2.06-.94-.94-2.06-.94 2.06-2.06.94zm-11 1L8.5 8.5l.94-2.06 2.06-.94-2.06-.94L8.5 2.5l-.94 2.06-2.06.94zm10 10l.94 2.06.94-2.06 2.06-.94-2.06-.94-.94-2.06-.94 2.06-2.06.94z\"/><path d=\"M17.41 7.96l-1.37-1.37c-.4-.4-.92-.59-1.43-.59-.52 0-1.04.2-1.43.59L10.3 9.45l-7.72 7.72c-.78.78-.78 2.05 0 2.83L4 21.41c.39.39.9.59 1.41.59.51 0 1.02-.2 1.41-.59l7.78-7.78 2.81-2.81c.8-.78.8-2.07 0-2.86zM5.41 20L4 18.59l7.72-7.72 1.47 1.35L5.41 20z\"/>\n",
              "  </svg>\n",
              "      </button>\n",
              "      \n",
              "  <style>\n",
              "    .colab-df-container {\n",
              "      display:flex;\n",
              "      flex-wrap:wrap;\n",
              "      gap: 12px;\n",
              "    }\n",
              "\n",
              "    .colab-df-convert {\n",
              "      background-color: #E8F0FE;\n",
              "      border: none;\n",
              "      border-radius: 50%;\n",
              "      cursor: pointer;\n",
              "      display: none;\n",
              "      fill: #1967D2;\n",
              "      height: 32px;\n",
              "      padding: 0 0 0 0;\n",
              "      width: 32px;\n",
              "    }\n",
              "\n",
              "    .colab-df-convert:hover {\n",
              "      background-color: #E2EBFA;\n",
              "      box-shadow: 0px 1px 2px rgba(60, 64, 67, 0.3), 0px 1px 3px 1px rgba(60, 64, 67, 0.15);\n",
              "      fill: #174EA6;\n",
              "    }\n",
              "\n",
              "    [theme=dark] .colab-df-convert {\n",
              "      background-color: #3B4455;\n",
              "      fill: #D2E3FC;\n",
              "    }\n",
              "\n",
              "    [theme=dark] .colab-df-convert:hover {\n",
              "      background-color: #434B5C;\n",
              "      box-shadow: 0px 1px 3px 1px rgba(0, 0, 0, 0.15);\n",
              "      filter: drop-shadow(0px 1px 2px rgba(0, 0, 0, 0.3));\n",
              "      fill: #FFFFFF;\n",
              "    }\n",
              "  </style>\n",
              "\n",
              "      <script>\n",
              "        const buttonEl =\n",
              "          document.querySelector('#df-59f0dc27-2919-4990-bf7a-a73f681ab409 button.colab-df-convert');\n",
              "        buttonEl.style.display =\n",
              "          google.colab.kernel.accessAllowed ? 'block' : 'none';\n",
              "\n",
              "        async function convertToInteractive(key) {\n",
              "          const element = document.querySelector('#df-59f0dc27-2919-4990-bf7a-a73f681ab409');\n",
              "          const dataTable =\n",
              "            await google.colab.kernel.invokeFunction('convertToInteractive',\n",
              "                                                     [key], {});\n",
              "          if (!dataTable) return;\n",
              "\n",
              "          const docLinkHtml = 'Like what you see? Visit the ' +\n",
              "            '<a target=\"_blank\" href=https://colab.research.google.com/notebooks/data_table.ipynb>data table notebook</a>'\n",
              "            + ' to learn more about interactive tables.';\n",
              "          element.innerHTML = '';\n",
              "          dataTable['output_type'] = 'display_data';\n",
              "          await google.colab.output.renderOutput(dataTable, element);\n",
              "          const docLink = document.createElement('div');\n",
              "          docLink.innerHTML = docLinkHtml;\n",
              "          element.appendChild(docLink);\n",
              "        }\n",
              "      </script>\n",
              "    </div>\n",
              "  </div>\n",
              "  "
            ],
            "text/plain": [
              "   Number  TruthValue                                              Tweet\n",
              "0       2           0                      i missed the new moon trailer\n",
              "1       3           1                                  omg its already o\n",
              "2       4           0  omgaga im soo im gunna cry ive been at this de...\n",
              "3       5           0                i think mi bf is cheating on me t_t\n",
              "4       6           0                           or i just worry too much"
            ]
          },
          "metadata": {},
          "execution_count": 7
        }
      ]
    },
    {
      "cell_type": "code",
      "source": [
        "# Memperlihatkan data dalam bentuk tabel\n",
        "display (df)"
      ],
      "metadata": {
        "colab": {
          "base_uri": "https://localhost:8080/",
          "height": 419
        },
        "id": "9JbeC9R11rOR",
        "outputId": "062d51bc-5db2-4457-ca0d-8b50f90d6282"
      },
      "execution_count": 8,
      "outputs": [
        {
          "output_type": "display_data",
          "data": {
            "text/html": [
              "\n",
              "  <div id=\"df-492737a9-7af8-4500-97bf-e8a241e81361\">\n",
              "    <div class=\"colab-df-container\">\n",
              "      <div>\n",
              "<style scoped>\n",
              "    .dataframe tbody tr th:only-of-type {\n",
              "        vertical-align: middle;\n",
              "    }\n",
              "\n",
              "    .dataframe tbody tr th {\n",
              "        vertical-align: top;\n",
              "    }\n",
              "\n",
              "    .dataframe thead th {\n",
              "        text-align: right;\n",
              "    }\n",
              "</style>\n",
              "<table border=\"1\" class=\"dataframe\">\n",
              "  <thead>\n",
              "    <tr style=\"text-align: right;\">\n",
              "      <th></th>\n",
              "      <th>Number</th>\n",
              "      <th>TruthValue</th>\n",
              "      <th>Tweet</th>\n",
              "    </tr>\n",
              "  </thead>\n",
              "  <tbody>\n",
              "    <tr>\n",
              "      <th>0</th>\n",
              "      <td>2</td>\n",
              "      <td>0</td>\n",
              "      <td>i missed the new moon trailer</td>\n",
              "    </tr>\n",
              "    <tr>\n",
              "      <th>1</th>\n",
              "      <td>3</td>\n",
              "      <td>1</td>\n",
              "      <td>omg its already o</td>\n",
              "    </tr>\n",
              "    <tr>\n",
              "      <th>2</th>\n",
              "      <td>4</td>\n",
              "      <td>0</td>\n",
              "      <td>omgaga im soo im gunna cry ive been at this de...</td>\n",
              "    </tr>\n",
              "    <tr>\n",
              "      <th>3</th>\n",
              "      <td>5</td>\n",
              "      <td>0</td>\n",
              "      <td>i think mi bf is cheating on me t_t</td>\n",
              "    </tr>\n",
              "    <tr>\n",
              "      <th>4</th>\n",
              "      <td>6</td>\n",
              "      <td>0</td>\n",
              "      <td>or i just worry too much</td>\n",
              "    </tr>\n",
              "    <tr>\n",
              "      <th>...</th>\n",
              "      <td>...</td>\n",
              "      <td>...</td>\n",
              "      <td>...</td>\n",
              "    </tr>\n",
              "    <tr>\n",
              "      <th>99994</th>\n",
              "      <td>99996</td>\n",
              "      <td>0</td>\n",
              "      <td>user_mention seems like a repeating problem ho...</td>\n",
              "    </tr>\n",
              "    <tr>\n",
              "      <th>99995</th>\n",
              "      <td>99997</td>\n",
              "      <td>1</td>\n",
              "      <td>user_mention arr we both replied to each other...</td>\n",
              "    </tr>\n",
              "    <tr>\n",
              "      <th>99996</th>\n",
              "      <td>99998</td>\n",
              "      <td>0</td>\n",
              "      <td>user_mention ya i thought so</td>\n",
              "    </tr>\n",
              "    <tr>\n",
              "      <th>99997</th>\n",
              "      <td>99999</td>\n",
              "      <td>1</td>\n",
              "      <td>user_mention yes yes im glad you had more fun ...</td>\n",
              "    </tr>\n",
              "    <tr>\n",
              "      <th>99998</th>\n",
              "      <td>100000</td>\n",
              "      <td>1</td>\n",
              "      <td>user_mention haha yes you do</td>\n",
              "    </tr>\n",
              "  </tbody>\n",
              "</table>\n",
              "<p>99999 rows × 3 columns</p>\n",
              "</div>\n",
              "      <button class=\"colab-df-convert\" onclick=\"convertToInteractive('df-492737a9-7af8-4500-97bf-e8a241e81361')\"\n",
              "              title=\"Convert this dataframe to an interactive table.\"\n",
              "              style=\"display:none;\">\n",
              "        \n",
              "  <svg xmlns=\"http://www.w3.org/2000/svg\" height=\"24px\"viewBox=\"0 0 24 24\"\n",
              "       width=\"24px\">\n",
              "    <path d=\"M0 0h24v24H0V0z\" fill=\"none\"/>\n",
              "    <path d=\"M18.56 5.44l.94 2.06.94-2.06 2.06-.94-2.06-.94-.94-2.06-.94 2.06-2.06.94zm-11 1L8.5 8.5l.94-2.06 2.06-.94-2.06-.94L8.5 2.5l-.94 2.06-2.06.94zm10 10l.94 2.06.94-2.06 2.06-.94-2.06-.94-.94-2.06-.94 2.06-2.06.94z\"/><path d=\"M17.41 7.96l-1.37-1.37c-.4-.4-.92-.59-1.43-.59-.52 0-1.04.2-1.43.59L10.3 9.45l-7.72 7.72c-.78.78-.78 2.05 0 2.83L4 21.41c.39.39.9.59 1.41.59.51 0 1.02-.2 1.41-.59l7.78-7.78 2.81-2.81c.8-.78.8-2.07 0-2.86zM5.41 20L4 18.59l7.72-7.72 1.47 1.35L5.41 20z\"/>\n",
              "  </svg>\n",
              "      </button>\n",
              "      \n",
              "  <style>\n",
              "    .colab-df-container {\n",
              "      display:flex;\n",
              "      flex-wrap:wrap;\n",
              "      gap: 12px;\n",
              "    }\n",
              "\n",
              "    .colab-df-convert {\n",
              "      background-color: #E8F0FE;\n",
              "      border: none;\n",
              "      border-radius: 50%;\n",
              "      cursor: pointer;\n",
              "      display: none;\n",
              "      fill: #1967D2;\n",
              "      height: 32px;\n",
              "      padding: 0 0 0 0;\n",
              "      width: 32px;\n",
              "    }\n",
              "\n",
              "    .colab-df-convert:hover {\n",
              "      background-color: #E2EBFA;\n",
              "      box-shadow: 0px 1px 2px rgba(60, 64, 67, 0.3), 0px 1px 3px 1px rgba(60, 64, 67, 0.15);\n",
              "      fill: #174EA6;\n",
              "    }\n",
              "\n",
              "    [theme=dark] .colab-df-convert {\n",
              "      background-color: #3B4455;\n",
              "      fill: #D2E3FC;\n",
              "    }\n",
              "\n",
              "    [theme=dark] .colab-df-convert:hover {\n",
              "      background-color: #434B5C;\n",
              "      box-shadow: 0px 1px 3px 1px rgba(0, 0, 0, 0.15);\n",
              "      filter: drop-shadow(0px 1px 2px rgba(0, 0, 0, 0.3));\n",
              "      fill: #FFFFFF;\n",
              "    }\n",
              "  </style>\n",
              "\n",
              "      <script>\n",
              "        const buttonEl =\n",
              "          document.querySelector('#df-492737a9-7af8-4500-97bf-e8a241e81361 button.colab-df-convert');\n",
              "        buttonEl.style.display =\n",
              "          google.colab.kernel.accessAllowed ? 'block' : 'none';\n",
              "\n",
              "        async function convertToInteractive(key) {\n",
              "          const element = document.querySelector('#df-492737a9-7af8-4500-97bf-e8a241e81361');\n",
              "          const dataTable =\n",
              "            await google.colab.kernel.invokeFunction('convertToInteractive',\n",
              "                                                     [key], {});\n",
              "          if (!dataTable) return;\n",
              "\n",
              "          const docLinkHtml = 'Like what you see? Visit the ' +\n",
              "            '<a target=\"_blank\" href=https://colab.research.google.com/notebooks/data_table.ipynb>data table notebook</a>'\n",
              "            + ' to learn more about interactive tables.';\n",
              "          element.innerHTML = '';\n",
              "          dataTable['output_type'] = 'display_data';\n",
              "          await google.colab.output.renderOutput(dataTable, element);\n",
              "          const docLink = document.createElement('div');\n",
              "          docLink.innerHTML = docLinkHtml;\n",
              "          element.appendChild(docLink);\n",
              "        }\n",
              "      </script>\n",
              "    </div>\n",
              "  </div>\n",
              "  "
            ],
            "text/plain": [
              "       Number  TruthValue                                              Tweet\n",
              "0           2           0                      i missed the new moon trailer\n",
              "1           3           1                                  omg its already o\n",
              "2           4           0  omgaga im soo im gunna cry ive been at this de...\n",
              "3           5           0                i think mi bf is cheating on me t_t\n",
              "4           6           0                           or i just worry too much\n",
              "...       ...         ...                                                ...\n",
              "99994   99996           0  user_mention seems like a repeating problem ho...\n",
              "99995   99997           1  user_mention arr we both replied to each other...\n",
              "99996   99998           0                       user_mention ya i thought so\n",
              "99997   99999           1  user_mention yes yes im glad you had more fun ...\n",
              "99998  100000           1                       user_mention haha yes you do\n",
              "\n",
              "[99999 rows x 3 columns]"
            ]
          },
          "metadata": {}
        }
      ]
    },
    {
      "cell_type": "code",
      "source": [
        "#Mengetahui Info Dataframe\n",
        "print(df.info())"
      ],
      "metadata": {
        "colab": {
          "base_uri": "https://localhost:8080/"
        },
        "id": "Hrb4jfzn40yC",
        "outputId": "3255b049-bd12-4ba6-a49c-67b85ff44b62"
      },
      "execution_count": 9,
      "outputs": [
        {
          "output_type": "stream",
          "name": "stdout",
          "text": [
            "<class 'pandas.core.frame.DataFrame'>\n",
            "RangeIndex: 99999 entries, 0 to 99998\n",
            "Data columns (total 3 columns):\n",
            " #   Column      Non-Null Count  Dtype \n",
            "---  ------      --------------  ----- \n",
            " 0   Number      99999 non-null  int64 \n",
            " 1   TruthValue  99999 non-null  int64 \n",
            " 2   Tweet       99831 non-null  object\n",
            "dtypes: int64(2), object(1)\n",
            "memory usage: 2.3+ MB\n",
            "None\n"
          ]
        }
      ]
    },
    {
      "cell_type": "code",
      "source": [
        "# Menghitung Jumlah Kolom TruthValue berdasarkan nilainya (1,0)\n",
        "df['TruthValue'].value_counts()"
      ],
      "metadata": {
        "colab": {
          "base_uri": "https://localhost:8080/"
        },
        "id": "pTQ23SfH7v28",
        "outputId": "e3bb885a-0f9b-4786-add7-e650cce1a171"
      },
      "execution_count": 10,
      "outputs": [
        {
          "output_type": "execute_result",
          "data": {
            "text/plain": [
              "1    56462\n",
              "0    43537\n",
              "Name: TruthValue, dtype: int64"
            ]
          },
          "metadata": {},
          "execution_count": 10
        }
      ]
    },
    {
      "cell_type": "code",
      "source": [
        "# Memvisualisasikan data menggunakan Seaborn\n",
        "sn.set_style('whitegrid');\n",
        "ax=sn.barplot(x=['Pos','Neg'], y=df.TruthValue.value_counts()*100/df.TruthValue.value_counts().sum());\n",
        "ax.set_title('% DISTRIBUTION IN DATASET ACCORDING TO THE SENTIMENT',loc='center', pad=20, fontdict={'fontsize': 15,\n",
        "        'fontweight': 'bold',\n",
        "        'color': 'black',\n",
        "        'verticalalignment': 'baseline',\n",
        "        });\n",
        "ax.set(xlabel='Tweets Sentiments', ylabel='No. of Tweets');\n",
        "plt.show()\n",
        "ax.legend()\n",
        "ax.figure.savefig('Total-positive-negative-counts.png',pad_inches=5)"
      ],
      "metadata": {
        "colab": {
          "base_uri": "https://localhost:8080/",
          "height": 328
        },
        "id": "NL7uM5U1781D",
        "outputId": "85844a0e-27f6-43e5-b624-c3841e32bad0"
      },
      "execution_count": 11,
      "outputs": [
        {
          "output_type": "display_data",
          "data": {
            "image/png": "[encoded data removed]",
            "text/plain": [
              "<Figure size 432x288 with 1 Axes>"
            ]
          },
          "metadata": {}
        },
        {
          "output_type": "stream",
          "name": "stderr",
          "text": [
            "No handles with labels found to put in legend.\n"
          ]
        }
      ]
    },
    {
      "cell_type": "markdown",
      "source": [
        "\n",
        "\n",
        "---------------------\n",
        "\n"
      ],
      "metadata": {
        "id": "bNfngCNI9JHq"
      }
    },
    {
      "cell_type": "code",
      "source": [
        "!python2 /content/drive/MyDrive/FX_ML/Twitter-Sentiment-Analysis-main/code/preprocess.py /content/drive/MyDrive/FX_ML/Twitter-Sentiment-Analysis-main/dataset/test-processed.csv"
      ],
      "metadata": {
        "colab": {
          "base_uri": "https://localhost:8080/"
        },
        "id": "NIBucMhgAW8p",
        "outputId": "10c4afa7-042a-473d-ee5c-141af546f21c"
      },
      "execution_count": 12,
      "outputs": [
        {
          "output_type": "stream",
          "name": "stdout",
          "text": [
            "Traceback (most recent call last):\n",
            "  File \"/content/drive/MyDrive/FX_ML/Twitter-Sentiment-Analysis-main/code/preprocess.py\", line 107, in <module>\n",
            "    preprocess_csv(csv_file_name, processed_file_name, test_file=False)\n",
            "  File \"/content/drive/MyDrive/FX_ML/Twitter-Sentiment-Analysis-main/code/preprocess.py\", line 81, in preprocess_csv\n",
            "    positive = int(line[:line.find(',')])\n",
            "ValueError: invalid literal for int() with base 10: 'is so sad for my apl friend'\n"
          ]
        }
      ]
    },
    {
      "cell_type": "markdown",
      "source": [
        "### **Stats.py**"
      ],
      "metadata": {
        "id": "GClgcniD-Egd"
      }
    },
    {
      "cell_type": "code",
      "source": [
        "!python2 /content/drive/MyDrive/FX_ML/Twitter-Sentiment-Analysis-main/code/stats.py /content/drive/MyDrive/FX_ML/Twitter-Sentiment-Analysis-main/dataset/test-processed-processed.csv"
      ],
      "metadata": {
        "colab": {
          "base_uri": "https://localhost:8080/"
        },
        "id": "rz_7LwDBAxfu",
        "outputId": "12bfa937-fa82-42d1-f918-504e1adc3877"
      },
      "execution_count": 13,
      "outputs": [
        {
          "output_type": "stream",
          "name": "stdout",
          "text": [
            "\n",
            "Calculating frequency distribution\n",
            "Saved uni-frequency distribution to /content/drive/MyDrive/FX_ML/Twitter-Sentiment-Analysis-main/dataset/test-processed-processed-freqdist.pkl\n",
            "Saved bi-frequency distribution to /content/drive/MyDrive/FX_ML/Twitter-Sentiment-Analysis-main/dataset/test-processed-processed-freqdist-bi.pkl\n",
            "\n",
            "[Analysis Statistics]\n",
            "Tweets => Total: 0, Positive: 0, Negative: 0\n",
            "Traceback (most recent call last):\n",
            "  File \"/content/drive/MyDrive/FX_ML/Twitter-Sentiment-Analysis-main/code/stats.py\", line 106, in <module>\n",
            "    print 'User Mentions => Total: %d, Avg: %.4f, Max: %d' % (num_mentions, num_mentions / float(num_tweets), max_mentions)\n",
            "ZeroDivisionError: float division by zero\n"
          ]
        }
      ]
    },
    {
      "cell_type": "code",
      "source": [
        "!python2 /content/drive/MyDrive/FX_ML/Twitter-Sentiment-Analysis-main/code/stats.py /content/drive/MyDrive/FX_ML/Twitter-Sentiment-Analysis-main/dataset/train-processed-processed.csv"
      ],
      "metadata": {
        "colab": {
          "base_uri": "https://localhost:8080/"
        },
        "id": "lqhmFm4uBkm3",
        "outputId": "9dbaa598-ae72-481a-8272-4bcf263d9ad1"
      },
      "execution_count": 14,
      "outputs": [
        {
          "output_type": "stream",
          "name": "stdout",
          "text": [
            "Processing 100000/100000\n",
            "Calculating frequency distribution\n",
            "Saved uni-frequency distribution to /content/drive/MyDrive/FX_ML/Twitter-Sentiment-Analysis-main/dataset/train-processed-processed-freqdist.pkl\n",
            "Saved bi-frequency distribution to /content/drive/MyDrive/FX_ML/Twitter-Sentiment-Analysis-main/dataset/train-processed-processed-freqdist-bi.pkl\n",
            "\n",
            "[Analysis Statistics]\n",
            "Tweets => Total: 100000, Positive: 56462, Negative: 43538\n",
            "User Mentions => Total: 0, Avg: 0.0000, Max: 0\n",
            "URLs => Total: 0, Avg: 0.0000, Max: 0\n",
            "Emojis => Total: 0, Positive: 0, Negative: 0, Avg: 0.0000, Max: 0\n",
            "Words => Total: 1283269, Unique: 50361, Avg: 12.8327, Max: 41, Min: 0\n",
            "Bigrams => Total: 1183437, Unique: 392543, Avg: 11.8344\n"
          ]
        }
      ]
    },
    {
      "cell_type": "markdown",
      "source": [
        "### **Baseline.py**"
      ],
      "metadata": {
        "id": "NfX_JJ_W-IO1"
      }
    },
    {
      "cell_type": "code",
      "source": [
        "!python2 /content/drive/MyDrive/FX_ML/Twitter-Sentiment-Analysis-main/code/baseline.py TRAIN = True"
      ],
      "metadata": {
        "colab": {
          "base_uri": "https://localhost:8080/"
        },
        "id": "G5gSI4SZB-rE",
        "outputId": "d18a943c-88a1-438f-d8c0-28c1ecb3ccd9"
      },
      "execution_count": 15,
      "outputs": [
        {
          "output_type": "stream",
          "name": "stdout",
          "text": [
            "Correct = 65.32%\n"
          ]
        }
      ]
    },
    {
      "cell_type": "code",
      "source": [
        "!python2 /content/drive/MyDrive/FX_ML/Twitter-Sentiment-Analysis-main/code/naivebayes.py TRAIN = True"
      ],
      "metadata": {
        "colab": {
          "base_uri": "https://localhost:8080/"
        },
        "id": "pjHhHk79O7mZ",
        "outputId": "bbf70401-422c-409a-88ae-11c91bb22154"
      },
      "execution_count": 16,
      "outputs": [
        {
          "output_type": "stream",
          "name": "stdout",
          "text": [
            "Generating feature vectors\n",
            "Processing 100000/100000\n",
            "\n",
            "Extracting features & training batches\n",
            "Processing 1/1\n",
            "\n",
            "Testing\n",
            "Processing 1/1\n",
            "Correct: 7735/10000 = 77.3500 %\n"
          ]
        }
      ]
    },
    {
      "cell_type": "markdown",
      "source": [
        "### **Logistic.py**"
      ],
      "metadata": {
        "id": "kAasIQWE-Ld0"
      }
    },
    {
      "cell_type": "code",
      "source": [
        "!python3 /content/drive/MyDrive/FX_ML/Twitter-Sentiment-Analysis-main/code/logistic.py TRAIN = True"
      ],
      "metadata": {
        "id": "bK_oeD-UO7rW",
        "colab": {
          "base_uri": "https://localhost:8080/"
        },
        "outputId": "7e5459e1-ec29-44b0-d329-8cdb7898f98b"
      },
      "execution_count": 17,
      "outputs": [
        {
          "output_type": "stream",
          "name": "stdout",
          "text": [
            "Generating feature vectors\n",
            "Processing 100000/100000\n",
            "\n",
            "Extracting features & training batches\n",
            "2022-01-23 11:51:17.069818: W tensorflow/core/common_runtime/gpu/gpu_bfc_allocator.cc:39] Overriding allow_growth setting because the TF_FORCE_GPU_ALLOW_GROWTH environment variable is set. Original config value was 0.\n",
            "Iteration 28/180, loss:0.6692, acc:0.69802022-01-23 11:51:22.575667: W tensorflow/core/data/root_dataset.cc:163] Optimization loop failed: CANCELLED: Operation was cancelled\n",
            "Iteration 31/180, loss:0.6670, acc:0.65602022-01-23 11:51:22.915655: W tensorflow/core/data/root_dataset.cc:163] Optimization loop failed: CANCELLED: Operation was cancelled\n",
            "Iteration 119/180, loss:0.6109, acc:0.72402022-01-23 11:51:33.317635: W tensorflow/core/data/root_dataset.cc:163] Optimization loop failed: CANCELLED: Operation was cancelled\n",
            "Iteration 133/180, loss:0.6217, acc:0.69402022-01-23 11:51:34.959175: W tensorflow/core/data/root_dataset.cc:163] Optimization loop failed: CANCELLED: Operation was cancelled\n",
            "Iteration 171/180, loss:0.5815, acc:0.77402022-01-23 11:51:39.424584: W tensorflow/core/data/root_dataset.cc:163] Optimization loop failed: CANCELLED: Operation was cancelled\n",
            "Iteration 180/180, loss:0.6062, acc:0.7040\n",
            "Epoch: 1, val_acc:0.7285\n",
            "Accuracy improved from 0.0000 to 0.7285, saving model\n",
            "Iteration 79/180, loss:0.5797, acc:0.73002022-01-23 11:51:52.301638: W tensorflow/core/data/root_dataset.cc:163] Optimization loop failed: CANCELLED: Operation was cancelled\n",
            "Iteration 90/180, loss:0.5592, acc:0.76402022-01-23 11:51:53.607691: W tensorflow/core/data/root_dataset.cc:163] Optimization loop failed: CANCELLED: Operation was cancelled\n",
            "Iteration 108/180, loss:0.5801, acc:0.72202022-01-23 11:51:55.731181: W tensorflow/core/data/root_dataset.cc:163] Optimization loop failed: CANCELLED: Operation was cancelled\n",
            "Iteration 136/180, loss:0.5454, acc:0.75202022-01-23 11:51:59.034330: W tensorflow/core/data/root_dataset.cc:163] Optimization loop failed: CANCELLED: Operation was cancelled\n",
            "Iteration 165/180, loss:0.5354, acc:0.75802022-01-23 11:52:02.479477: W tensorflow/core/data/root_dataset.cc:163] Optimization loop failed: CANCELLED: Operation was cancelled\n",
            "Iteration 167/180, loss:0.5382, acc:0.75402022-01-23 11:52:02.713891: W tensorflow/core/data/root_dataset.cc:163] Optimization loop failed: CANCELLED: Operation was cancelled\n",
            "Iteration 169/180, loss:0.5443, acc:0.75202022-01-23 11:52:02.943631: W tensorflow/core/data/root_dataset.cc:163] Optimization loop failed: CANCELLED: Operation was cancelled\n",
            "Iteration 180/180, loss:0.5266, acc:0.7760\n",
            "Epoch: 2, val_acc:0.7467\n",
            "Accuracy improved from 0.7285 to 0.7467, saving model\n",
            "Iteration 8/180, loss:0.5608, acc:0.74802022-01-23 11:52:07.461844: W tensorflow/core/data/root_dataset.cc:163] Optimization loop failed: CANCELLED: Operation was cancelled\n",
            "Iteration 45/180, loss:0.5257, acc:0.78202022-01-23 11:52:11.720653: W tensorflow/core/data/root_dataset.cc:163] Optimization loop failed: CANCELLED: Operation was cancelled\n",
            "Iteration 131/180, loss:0.5266, acc:0.76602022-01-23 11:52:21.723542: W tensorflow/core/data/root_dataset.cc:163] Optimization loop failed: CANCELLED: Operation was cancelled\n",
            "Iteration 134/180, loss:0.5177, acc:0.77802022-01-23 11:52:22.071631: W tensorflow/core/data/root_dataset.cc:163] Optimization loop failed: CANCELLED: Operation was cancelled\n",
            "Iteration 159/180, loss:0.5071, acc:0.79402022-01-23 11:52:24.984480: W tensorflow/core/data/root_dataset.cc:163] Optimization loop failed: CANCELLED: Operation was cancelled\n",
            "Iteration 180/180, loss:0.5126, acc:0.7900\n",
            "Epoch: 3, val_acc:0.7564\n",
            "Accuracy improved from 0.7467 to 0.7564, saving model\n",
            "Iteration 105/180, loss:0.4834, acc:0.81602022-01-23 11:52:42.247132: W tensorflow/core/data/root_dataset.cc:163] Optimization loop failed: CANCELLED: Operation was cancelled\n",
            "Iteration 148/180, loss:0.5027, acc:0.78202022-01-23 11:52:47.245610: W tensorflow/core/data/root_dataset.cc:163] Optimization loop failed: CANCELLED: Operation was cancelled\n",
            "Iteration 162/180, loss:0.4980, acc:0.80202022-01-23 11:52:48.935427: W tensorflow/core/data/root_dataset.cc:163] Optimization loop failed: CANCELLED: Operation was cancelled\n",
            "Iteration 180/180, loss:0.4838, acc:0.79402022-01-23 11:52:51.604630: W tensorflow/core/data/root_dataset.cc:163] Optimization loop failed: CANCELLED: Operation was cancelled\n",
            "\n",
            "Epoch: 4, val_acc:0.7631\n",
            "Accuracy improved from 0.7564 to 0.7631, saving model\n",
            "Iteration 19/180, loss:0.4924, acc:0.79202022-01-23 11:52:55.544377: W tensorflow/core/data/root_dataset.cc:163] Optimization loop failed: CANCELLED: Operation was cancelled\n",
            "Iteration 58/180, loss:0.5003, acc:0.77802022-01-23 11:53:00.125455: W tensorflow/core/data/root_dataset.cc:163] Optimization loop failed: CANCELLED: Operation was cancelled\n",
            "Iteration 180/180, loss:0.4761, acc:0.79802022-01-23 11:53:15.229094: W tensorflow/core/data/root_dataset.cc:163] Optimization loop failed: CANCELLED: Operation was cancelled\n",
            "\n",
            "Epoch: 5, val_acc:0.7657\n",
            "Accuracy improved from 0.7631 to 0.7657, saving model\n",
            "Iteration 28/180, loss:0.4491, acc:0.80402022-01-23 11:53:20.024939: W tensorflow/core/data/root_dataset.cc:163] Optimization loop failed: CANCELLED: Operation was cancelled\n",
            "Iteration 37/180, loss:0.4678, acc:0.81402022-01-23 11:53:21.060771: W tensorflow/core/data/root_dataset.cc:163] Optimization loop failed: CANCELLED: Operation was cancelled\n",
            "Iteration 59/180, loss:0.4846, acc:0.78802022-01-23 11:53:23.597614: W tensorflow/core/data/root_dataset.cc:163] Optimization loop failed: CANCELLED: Operation was cancelled\n",
            "Iteration 163/180, loss:0.4875, acc:0.79402022-01-23 11:53:35.574282: W tensorflow/core/data/root_dataset.cc:163] Optimization loop failed: CANCELLED: Operation was cancelled\n",
            "Iteration 169/180, loss:0.4782, acc:0.78602022-01-23 11:53:36.253827: W tensorflow/core/data/root_dataset.cc:163] Optimization loop failed: CANCELLED: Operation was cancelled\n",
            "Iteration 180/180, loss:0.4595, acc:0.81202022-01-23 11:53:37.978180: W tensorflow/core/data/root_dataset.cc:163] Optimization loop failed: CANCELLED: Operation was cancelled\n",
            "2022-01-23 11:53:38.961629: W tensorflow/core/data/root_dataset.cc:163] Optimization loop failed: CANCELLED: Operation was cancelled\n",
            "\n",
            "Epoch: 6, val_acc:0.7673\n",
            "Accuracy improved from 0.7657 to 0.7673, saving model\n",
            "Iteration 62/180, loss:0.4673, acc:0.78002022-01-23 11:53:47.100722: W tensorflow/core/data/root_dataset.cc:163] Optimization loop failed: CANCELLED: Operation was cancelled\n",
            "Iteration 145/180, loss:0.4822, acc:0.77602022-01-23 11:53:56.691643: W tensorflow/core/data/root_dataset.cc:163] Optimization loop failed: CANCELLED: Operation was cancelled\n",
            "Iteration 180/180, loss:0.4604, acc:0.8120\n",
            "Epoch: 7, val_acc:0.7699\n",
            "Accuracy improved from 0.7673 to 0.7699, saving model\n",
            "Iteration 11/180, loss:0.4347, acc:0.81402022-01-23 11:54:04.194453: W tensorflow/core/data/root_dataset.cc:163] Optimization loop failed: CANCELLED: Operation was cancelled\n",
            "Iteration 29/180, loss:0.4781, acc:0.78802022-01-23 11:54:06.264010: W tensorflow/core/data/root_dataset.cc:163] Optimization loop failed: CANCELLED: Operation was cancelled\n",
            "Iteration 41/180, loss:0.4497, acc:0.81402022-01-23 11:54:07.639626: W tensorflow/core/data/root_dataset.cc:163] Optimization loop failed: CANCELLED: Operation was cancelled\n",
            "Iteration 44/180, loss:0.4756, acc:0.78202022-01-23 11:54:07.975814: W tensorflow/core/data/root_dataset.cc:163] Optimization loop failed: CANCELLED: Operation was cancelled\n",
            "Iteration 68/180, loss:0.4793, acc:0.78802022-01-23 11:54:10.728349: W tensorflow/core/data/root_dataset.cc:163] Optimization loop failed: CANCELLED: Operation was cancelled\n",
            "Iteration 90/180, loss:0.4570, acc:0.79802022-01-23 11:54:13.251893: W tensorflow/core/data/root_dataset.cc:163] Optimization loop failed: CANCELLED: Operation was cancelled\n",
            "Iteration 180/180, loss:0.4332, acc:0.83202022-01-23 11:54:25.369649: W tensorflow/core/data/root_dataset.cc:163] Optimization loop failed: CANCELLED: Operation was cancelled\n",
            "\n",
            "Epoch: 8, val_acc:0.7704\n",
            "Accuracy improved from 0.7699 to 0.7704, saving model\n",
            "Iteration 22/180, loss:0.4255, acc:0.82402022-01-23 11:54:28.393799: W tensorflow/core/data/root_dataset.cc:163] Optimization loop failed: CANCELLED: Operation was cancelled\n",
            "Iteration 25/180, loss:0.4265, acc:0.82402022-01-23 11:54:28.734904: W tensorflow/core/data/root_dataset.cc:163] Optimization loop failed: CANCELLED: Operation was cancelled\n",
            "Iteration 52/180, loss:0.4394, acc:0.81802022-01-23 11:54:31.805729: W tensorflow/core/data/root_dataset.cc:163] Optimization loop failed: CANCELLED: Operation was cancelled\n",
            "Iteration 92/180, loss:0.4169, acc:0.83402022-01-23 11:54:36.373619: W tensorflow/core/data/root_dataset.cc:163] Optimization loop failed: CANCELLED: Operation was cancelled\n",
            "Iteration 107/180, loss:0.4196, acc:0.83402022-01-23 11:54:38.070514: W tensorflow/core/data/root_dataset.cc:163] Optimization loop failed: CANCELLED: Operation was cancelled\n",
            "Iteration 154/180, loss:0.4344, acc:0.82802022-01-23 11:54:43.483620: W tensorflow/core/data/root_dataset.cc:163] Optimization loop failed: CANCELLED: Operation was cancelled\n",
            "Iteration 155/180, loss:0.4582, acc:0.80202022-01-23 11:54:43.599432: W tensorflow/core/data/root_dataset.cc:163] Optimization loop failed: CANCELLED: Operation was cancelled\n",
            "Iteration 180/180, loss:0.4173, acc:0.82202022-01-23 11:54:48.216620: W tensorflow/core/data/root_dataset.cc:163] Optimization loop failed: CANCELLED: Operation was cancelled\n",
            "\n",
            "Epoch: 9, val_acc:0.7726\n",
            "Accuracy improved from 0.7704 to 0.7726, saving model\n",
            "Iteration 27/180, loss:0.4480, acc:0.81402022-01-23 11:54:51.814256: W tensorflow/core/data/root_dataset.cc:163] Optimization loop failed: CANCELLED: Operation was cancelled\n",
            "Iteration 143/180, loss:0.4382, acc:0.82002022-01-23 11:55:05.109708: W tensorflow/core/data/root_dataset.cc:163] Optimization loop failed: CANCELLED: Operation was cancelled\n",
            "Iteration 167/180, loss:0.4113, acc:0.82602022-01-23 11:55:07.873436: W tensorflow/core/data/root_dataset.cc:163] Optimization loop failed: CANCELLED: Operation was cancelled\n",
            "Iteration 177/180, loss:0.4654, acc:0.78602022-01-23 11:55:09.025400: W tensorflow/core/data/root_dataset.cc:163] Optimization loop failed: CANCELLED: Operation was cancelled\n",
            "Iteration 180/180, loss:0.4217, acc:0.82202022-01-23 11:55:10.780637: W tensorflow/core/data/root_dataset.cc:163] Optimization loop failed: CANCELLED: Operation was cancelled\n",
            "\n",
            "Epoch: 10, val_acc:0.7731\n",
            "Accuracy improved from 0.7726 to 0.7731, saving model\n",
            "Iteration 28/180, loss:0.4291, acc:0.82002022-01-23 11:55:14.851838: W tensorflow/core/data/root_dataset.cc:163] Optimization loop failed: CANCELLED: Operation was cancelled\n",
            "Iteration 104/180, loss:0.4213, acc:0.81002022-01-23 11:55:23.553938: W tensorflow/core/data/root_dataset.cc:163] Optimization loop failed: CANCELLED: Operation was cancelled\n",
            "Iteration 175/180, loss:0.4180, acc:0.83002022-01-23 11:55:31.640854: W tensorflow/core/data/root_dataset.cc:163] Optimization loop failed: CANCELLED: Operation was cancelled\n",
            "Iteration 180/180, loss:0.4368, acc:0.7960\n",
            "Epoch: 11, val_acc:0.7746\n",
            "Accuracy improved from 0.7731 to 0.7746, saving model\n",
            "Iteration 22/180, loss:0.4291, acc:0.79802022-01-23 11:55:36.888751: W tensorflow/core/data/root_dataset.cc:163] Optimization loop failed: CANCELLED: Operation was cancelled\n",
            "Iteration 25/180, loss:0.4185, acc:0.82002022-01-23 11:55:37.232629: W tensorflow/core/data/root_dataset.cc:163] Optimization loop failed: CANCELLED: Operation was cancelled\n",
            "Iteration 180/180, loss:0.4306, acc:0.8160\n",
            "Epoch: 12, val_acc:0.7760\n",
            "Accuracy improved from 0.7746 to 0.7760, saving model\n",
            "Iteration 8/180, loss:0.4265, acc:0.82002022-01-23 11:55:57.860492: W tensorflow/core/data/root_dataset.cc:163] Optimization loop failed: CANCELLED: Operation was cancelled\n",
            "Iteration 32/180, loss:0.4219, acc:0.81002022-01-23 11:56:00.580127: W tensorflow/core/data/root_dataset.cc:163] Optimization loop failed: CANCELLED: Operation was cancelled\n",
            "Iteration 180/180, loss:0.3802, acc:0.84402022-01-23 11:56:17.449647: W tensorflow/core/data/root_dataset.cc:163] Optimization loop failed: CANCELLED: Operation was cancelled\n",
            "\n",
            "Epoch: 13, val_acc:0.7770\n",
            "Accuracy improved from 0.7760 to 0.7770, saving model\n",
            "Iteration 33/180, loss:0.4086, acc:0.82202022-01-23 11:56:23.323624: W tensorflow/core/data/root_dataset.cc:163] Optimization loop failed: CANCELLED: Operation was cancelled\n",
            "Iteration 73/180, loss:0.4137, acc:0.80802022-01-23 11:56:27.825817: W tensorflow/core/data/root_dataset.cc:163] Optimization loop failed: CANCELLED: Operation was cancelled\n",
            "Iteration 180/180, loss:0.4561, acc:0.79402022-01-23 11:56:40.877638: W tensorflow/core/data/root_dataset.cc:163] Optimization loop failed: CANCELLED: Operation was cancelled\n",
            "\n",
            "Epoch: 14, val_acc:0.7768\n",
            "Iteration 180/180, loss:0.4044, acc:0.83002022-01-23 11:57:02.836621: W tensorflow/core/data/root_dataset.cc:163] Optimization loop failed: CANCELLED: Operation was cancelled\n",
            "2022-01-23 11:57:03.472483: W tensorflow/core/data/root_dataset.cc:163] Optimization loop failed: CANCELLED: Operation was cancelled\n",
            "2022-01-23 11:57:04.448360: W tensorflow/core/data/root_dataset.cc:163] Optimization loop failed: CANCELLED: Operation was cancelled\n",
            "\n",
            "Epoch: 15, val_acc:0.7772\n",
            "Accuracy improved from 0.7770 to 0.7772, saving model\n",
            "Iteration 20/180, loss:0.3645, acc:0.85402022-01-23 11:57:07.128332: W tensorflow/core/data/root_dataset.cc:163] Optimization loop failed: CANCELLED: Operation was cancelled\n",
            "Iteration 74/180, loss:0.4058, acc:0.84202022-01-23 11:57:13.274512: W tensorflow/core/data/root_dataset.cc:163] Optimization loop failed: CANCELLED: Operation was cancelled\n",
            "Iteration 139/180, loss:0.3885, acc:0.84002022-01-23 11:57:20.620829: W tensorflow/core/data/root_dataset.cc:163] Optimization loop failed: CANCELLED: Operation was cancelled\n",
            "Iteration 161/180, loss:0.3926, acc:0.84202022-01-23 11:57:23.104238: W tensorflow/core/data/root_dataset.cc:163] Optimization loop failed: CANCELLED: Operation was cancelled\n",
            "Iteration 173/180, loss:0.4089, acc:0.81202022-01-23 11:57:24.465683: W tensorflow/core/data/root_dataset.cc:163] Optimization loop failed: CANCELLED: Operation was cancelled\n",
            "Iteration 179/180, loss:0.4221, acc:0.83402022-01-23 11:57:25.138797: W tensorflow/core/data/root_dataset.cc:163] Optimization loop failed: CANCELLED: Operation was cancelled\n",
            "Iteration 180/180, loss:0.4143, acc:0.8100\n",
            "Epoch: 16, val_acc:0.7783\n",
            "Accuracy improved from 0.7772 to 0.7783, saving model\n",
            "Iteration 24/180, loss:0.4283, acc:0.82002022-01-23 11:57:30.194828: W tensorflow/core/data/root_dataset.cc:163] Optimization loop failed: CANCELLED: Operation was cancelled\n",
            "Iteration 41/180, loss:0.4163, acc:0.82402022-01-23 11:57:32.130530: W tensorflow/core/data/root_dataset.cc:163] Optimization loop failed: CANCELLED: Operation was cancelled\n",
            "Iteration 47/180, loss:0.3876, acc:0.84402022-01-23 11:57:32.789283: W tensorflow/core/data/root_dataset.cc:163] Optimization loop failed: CANCELLED: Operation was cancelled\n",
            "Iteration 95/180, loss:0.4331, acc:0.78602022-01-23 11:57:38.279146: W tensorflow/core/data/root_dataset.cc:163] Optimization loop failed: CANCELLED: Operation was cancelled\n",
            "Iteration 100/180, loss:0.4102, acc:0.83402022-01-23 11:57:38.839269: W tensorflow/core/data/root_dataset.cc:163] Optimization loop failed: CANCELLED: Operation was cancelled\n",
            "Iteration 162/180, loss:0.4358, acc:0.81402022-01-23 11:57:45.946634: W tensorflow/core/data/root_dataset.cc:163] Optimization loop failed: CANCELLED: Operation was cancelled\n",
            "Iteration 180/180, loss:0.3832, acc:0.83802022-01-23 11:57:48.083692: W tensorflow/core/data/root_dataset.cc:163] Optimization loop failed: CANCELLED: Operation was cancelled\n",
            "\n",
            "Epoch: 17, val_acc:0.7788\n",
            "Accuracy improved from 0.7783 to 0.7788, saving model\n",
            "Iteration 19/180, loss:0.4244, acc:0.81402022-01-23 11:57:52.324145: W tensorflow/core/data/root_dataset.cc:163] Optimization loop failed: CANCELLED: Operation was cancelled\n",
            "Iteration 48/180, loss:0.3966, acc:0.83202022-01-23 11:57:55.623300: W tensorflow/core/data/root_dataset.cc:163] Optimization loop failed: CANCELLED: Operation was cancelled\n",
            "Iteration 51/180, loss:0.4362, acc:0.80602022-01-23 11:57:55.960847: W tensorflow/core/data/root_dataset.cc:163] Optimization loop failed: CANCELLED: Operation was cancelled\n",
            "Iteration 98/180, loss:0.3915, acc:0.83602022-01-23 11:58:01.274622: W tensorflow/core/data/root_dataset.cc:163] Optimization loop failed: CANCELLED: Operation was cancelled\n",
            "Iteration 180/180, loss:0.3745, acc:0.8380\n",
            "Epoch: 18, val_acc:0.7783\n",
            "Iteration 51/180, loss:0.3978, acc:0.83002022-01-23 11:58:18.488205: W tensorflow/core/data/root_dataset.cc:163] Optimization loop failed: CANCELLED: Operation was cancelled\n",
            "Iteration 63/180, loss:0.4156, acc:0.82002022-01-23 11:58:19.883858: W tensorflow/core/data/root_dataset.cc:163] Optimization loop failed: CANCELLED: Operation was cancelled\n",
            "Iteration 88/180, loss:0.4246, acc:0.80002022-01-23 11:58:22.768635: W tensorflow/core/data/root_dataset.cc:163] Optimization loop failed: CANCELLED: Operation was cancelled\n",
            "Iteration 90/180, loss:0.3796, acc:0.85202022-01-23 11:58:22.995951: W tensorflow/core/data/root_dataset.cc:163] Optimization loop failed: CANCELLED: Operation was cancelled\n",
            "Iteration 142/180, loss:0.4096, acc:0.81402022-01-23 11:58:28.850927: W tensorflow/core/data/root_dataset.cc:163] Optimization loop failed: CANCELLED: Operation was cancelled\n",
            "Iteration 180/180, loss:0.3582, acc:0.8480\n",
            "Epoch: 19, val_acc:0.7795\n",
            "Accuracy improved from 0.7788 to 0.7795, saving model\n",
            "Iteration 2/180, loss:0.3596, acc:0.86802022-01-23 11:58:35.505314: W tensorflow/core/data/root_dataset.cc:163] Optimization loop failed: CANCELLED: Operation was cancelled\n",
            "Iteration 48/180, loss:0.3765, acc:0.85602022-01-23 11:58:40.679638: W tensorflow/core/data/root_dataset.cc:163] Optimization loop failed: CANCELLED: Operation was cancelled\n",
            "Iteration 49/180, loss:0.4025, acc:0.79402022-01-23 11:58:40.788488: W tensorflow/core/data/root_dataset.cc:163] Optimization loop failed: CANCELLED: Operation was cancelled\n",
            "Iteration 50/180, loss:0.3815, acc:0.84602022-01-23 11:58:40.893485: W tensorflow/core/data/root_dataset.cc:163] Optimization loop failed: CANCELLED: Operation was cancelled\n",
            "Iteration 109/180, loss:0.3868, acc:0.84202022-01-23 11:58:47.525634: W tensorflow/core/data/root_dataset.cc:163] Optimization loop failed: CANCELLED: Operation was cancelled\n",
            "Iteration 123/180, loss:0.3647, acc:0.86202022-01-23 11:58:49.104352: W tensorflow/core/data/root_dataset.cc:163] Optimization loop failed: CANCELLED: Operation was cancelled\n",
            "Iteration 180/180, loss:0.3904, acc:0.82802022-01-23 11:58:57.100632: W tensorflow/core/data/root_dataset.cc:163] Optimization loop failed: CANCELLED: Operation was cancelled\n",
            "\n",
            "Epoch: 20, val_acc:0.7795\n",
            "Testing\n",
            "Generating feature vectors\n",
            "\n",
            "\n",
            "Predicting batches\n",
            "\n",
            "Saved to logistic.csv\n"
          ]
        }
      ]
    },
    {
      "cell_type": "markdown",
      "source": [
        "### **DecisionTree.py**"
      ],
      "metadata": {
        "id": "mYw6j_Kk-SrA"
      }
    },
    {
      "cell_type": "code",
      "source": [
        "!python3 /content/drive/MyDrive/FX_ML/Twitter-Sentiment-Analysis-main/code/decisiontree.py TRAIN = True"
      ],
      "metadata": {
        "colab": {
          "base_uri": "https://localhost:8080/"
        },
        "id": "g1CpZJigAsm5",
        "outputId": "1a3687f6-be75-4d2c-f714-bc2497b0cb55"
      },
      "execution_count": 18,
      "outputs": [
        {
          "output_type": "stream",
          "name": "stdout",
          "text": [
            "Generating feature vectors\n",
            "Processing 100000/100000\n",
            "\n",
            "Extracting features & training batches\n",
            "Processing 1/1\n",
            "\n",
            "Testing\n",
            "Processing 1/1\n",
            "Correct: 6860/10000 = 68.6000 %\n"
          ]
        }
      ]
    },
    {
      "cell_type": "markdown",
      "source": [
        "### **RandomForest.py**"
      ],
      "metadata": {
        "id": "IHHbgdIF-WPj"
      }
    },
    {
      "cell_type": "code",
      "source": [
        "!python3 /content/drive/MyDrive/FX_ML/Twitter-Sentiment-Analysis-main/code/randomforest.py"
      ],
      "metadata": {
        "colab": {
          "base_uri": "https://localhost:8080/"
        },
        "id": "Sz9KKowBErFx",
        "outputId": "790616ae-27f6-48dc-f25f-50264036d62f"
      },
      "execution_count": 19,
      "outputs": [
        {
          "output_type": "stream",
          "name": "stdout",
          "text": [
            "Generating feature vectors\n",
            "Processing 100000/100000\n",
            "\n",
            "Extracting features & training batches\n",
            "Processing 1/1\n",
            "\n",
            "Testing\n",
            "Processing 1/1\n",
            "Correct: 7639/10000 = 76.3900 %\n"
          ]
        }
      ]
    },
    {
      "cell_type": "markdown",
      "source": [
        "### **Xgboost1.py**"
      ],
      "metadata": {
        "id": "HXT1Oibz-bSQ"
      }
    },
    {
      "cell_type": "code",
      "source": [
        "# rename file agar tidak bertabrakan dengan xgboost modul\n",
        "!python3 /content/drive/MyDrive/FX_ML/Twitter-Sentiment-Analysis-main/code/xgboost1.py"
      ],
      "metadata": {
        "colab": {
          "base_uri": "https://localhost:8080/"
        },
        "id": "59ozXLYgIEWZ",
        "outputId": "43f35910-2b90-4887-ffdb-efa21b80146c"
      },
      "execution_count": 21,
      "outputs": [
        {
          "output_type": "stream",
          "name": "stdout",
          "text": [
            "Generating feature vectors\n",
            "Processing 100000/100000\n",
            "\n",
            "Extracting features & training batches\n",
            "Processing 1/1\n",
            "\n",
            "Testing\n",
            "Processing 1/1\n",
            "Correct: 7695/10000 = 76.9500 %\n"
          ]
        }
      ]
    },
    {
      "cell_type": "markdown",
      "source": [
        "### **SVM.py**"
      ],
      "metadata": {
        "id": "2mjbFBm3-ePQ"
      }
    },
    {
      "cell_type": "code",
      "source": [
        "!python3 /content/drive/MyDrive/FX_ML/Twitter-Sentiment-Analysis-main/code/svm.py"
      ],
      "metadata": {
        "colab": {
          "base_uri": "https://localhost:8080/"
        },
        "id": "XbqAuSmiQveu",
        "outputId": "733c985b-adce-4f06-ddb9-c87739f808e1"
      },
      "execution_count": 22,
      "outputs": [
        {
          "output_type": "stream",
          "name": "stdout",
          "text": [
            "Generating feature vectors\n",
            "Processing 100000/100000\n",
            "\n",
            "Extracting features & training batches\n",
            "Processing 1/1\n",
            "\n",
            "Testing\n",
            "Processing 1/1\n",
            "Correct: 7836/10000 = 78.3600 %\n"
          ]
        }
      ]
    },
    {
      "cell_type": "markdown",
      "source": [
        "### **Neuralnet.py**"
      ],
      "metadata": {
        "id": "suVtwgbe-oom"
      }
    },
    {
      "cell_type": "code",
      "source": [
        "!python3 /content/drive/MyDrive/FX_ML/Twitter-Sentiment-Analysis-main/code/neuralnet.py TRAIN = True"
      ],
      "metadata": {
        "colab": {
          "base_uri": "https://localhost:8080/"
        },
        "id": "D5NdcL2tRkTR",
        "outputId": "6cf3afa6-ff70-4c9f-bcf4-d10f56acd277"
      },
      "execution_count": 27,
      "outputs": [
        {
          "output_type": "stream",
          "name": "stdout",
          "text": [
            "Generating feature vectors\n",
            "Processing 100000/100000\n",
            "\n",
            "Extracting features & training batches\n",
            "2022-01-23 12:23:20.014356: W tensorflow/core/common_runtime/gpu/gpu_bfc_allocator.cc:39] Overriding allow_growth setting because the TF_FORCE_GPU_ALLOW_GROWTH environment variable is set. Original config value was 0.\n",
            "Iteration 180/180, loss:0.5398, acc:0.7320\n",
            "Epoch: 1, val_acc:0.7617\n",
            "Accuracy improved from 0.0000 to 0.7617, saving model\n",
            "Iteration 180/180, loss:0.4850, acc:0.7740\n",
            "Epoch: 2, val_acc:0.7732\n",
            "Accuracy improved from 0.7617 to 0.7732, saving model\n",
            "Iteration 180/180, loss:0.4995, acc:0.7680\n",
            "Epoch: 3, val_acc:0.7721\n",
            "Iteration 180/180, loss:0.4529, acc:0.7940\n",
            "Epoch: 4, val_acc:0.7725\n",
            "Iteration 180/180, loss:0.4589, acc:0.7880\n",
            "Epoch: 5, val_acc:0.7713\n",
            "Testing\n",
            "Generating feature vectors\n",
            "\n",
            "\n",
            "Predicting batches\n",
            "\n",
            "Saved to 1layerneuralnet.csv\n"
          ]
        }
      ]
    },
    {
      "cell_type": "markdown",
      "source": [
        "### **Download File Glove **"
      ],
      "metadata": {
        "id": "Xp_QmzxW-wtt"
      }
    },
    {
      "cell_type": "code",
      "source": [
        "!wget https://nlp.stanford.edu/data/glove.6B.zip"
      ],
      "metadata": {
        "colab": {
          "base_uri": "https://localhost:8080/"
        },
        "id": "r4PJdFGuWovg",
        "outputId": "80a9a01c-e5a6-4744-f793-812d58aa1053"
      },
      "execution_count": 24,
      "outputs": [
        {
          "output_type": "stream",
          "name": "stdout",
          "text": [
            "--2022-01-23 12:14:42--  https://nlp.stanford.edu/data/glove.6B.zip\n",
            "Resolving nlp.stanford.edu (nlp.stanford.edu)... 171.64.67.140\n",
            "Connecting to nlp.stanford.edu (nlp.stanford.edu)|171.64.67.140|:443... connected.\n",
            "HTTP request sent, awaiting response... 301 Moved Permanently\n",
            "Location: http://downloads.cs.stanford.edu/nlp/data/glove.6B.zip [following]\n",
            "--2022-01-23 12:14:42--  http://downloads.cs.stanford.edu/nlp/data/glove.6B.zip\n",
            "Resolving downloads.cs.stanford.edu (downloads.cs.stanford.edu)... 171.64.64.22\n",
            "Connecting to downloads.cs.stanford.edu (downloads.cs.stanford.edu)|171.64.64.22|:80... connected.\n",
            "HTTP request sent, awaiting response... 200 OK\n",
            "Length: 862182613 (822M) [application/zip]\n",
            "Saving to: ‘glove.6B.zip’\n",
            "\n",
            "glove.6B.zip        100%[===================>] 822.24M  5.06MB/s    in 2m 40s  \n",
            "\n",
            "2022-01-23 12:17:22 (5.15 MB/s) - ‘glove.6B.zip’ saved [862182613/862182613]\n",
            "\n"
          ]
        }
      ]
    },
    {
      "cell_type": "code",
      "source": [
        "!unzip glove*.zip"
      ],
      "metadata": {
        "colab": {
          "base_uri": "https://localhost:8080/"
        },
        "id": "eTTXIJfymChl",
        "outputId": "57d8e129-8894-4e73-fbe4-c4d3b9bb758d"
      },
      "execution_count": 25,
      "outputs": [
        {
          "output_type": "stream",
          "name": "stdout",
          "text": [
            "Archive:  glove.6B.zip\n",
            "  inflating: glove.6B.50d.txt        \n",
            "  inflating: glove.6B.100d.txt       \n",
            "  inflating: glove.6B.200d.txt       \n",
            "  inflating: glove.6B.300d.txt       \n"
          ]
        }
      ]
    },
    {
      "cell_type": "markdown",
      "source": [
        "## **LSTM.py**"
      ],
      "metadata": {
        "id": "2qGZKaY9-0GU"
      }
    },
    {
      "cell_type": "code",
      "source": [
        "!python3 /content/drive/MyDrive/FX_ML/Twitter-Sentiment-Analysis-main/code/lstm.py"
      ],
      "metadata": {
        "colab": {
          "base_uri": "https://localhost:8080/"
        },
        "id": "XrsjMxzxUKTb",
        "outputId": "d53e6e7d-fc31-4cfd-e50a-6ffe671110f9"
      },
      "execution_count": 26,
      "outputs": [
        {
          "output_type": "stream",
          "name": "stdout",
          "text": [
            "Looking for GLOVE vectors\n",
            "Processing 400000/0\n",
            "\n",
            "Found 31735 words in GLOVE\n",
            "Generating feature vectors\n",
            "Processing 100000/100000\n",
            "\n",
            "2022-01-23 12:18:23.079444: W tensorflow/core/common_runtime/gpu/gpu_bfc_allocator.cc:39] Overriding allow_growth setting because the TF_FORCE_GPU_ALLOW_GROWTH environment variable is set. Original config value was 0.\n",
            "Model: \"sequential\"\n",
            "_________________________________________________________________\n",
            " Layer (type)                Output Shape              Param #   \n",
            "=================================================================\n",
            " embedding (Embedding)       (None, 40, 200)           18000200  \n",
            "                                                                 \n",
            " dropout (Dropout)           (None, 40, 200)           0         \n",
            "                                                                 \n",
            " lstm (LSTM)                 (None, 128)               168448    \n",
            "                                                                 \n",
            " dense (Dense)               (None, 64)                8256      \n",
            "                                                                 \n",
            " dropout_1 (Dropout)         (None, 64)                0         \n",
            "                                                                 \n",
            " activation (Activation)     (None, 64)                0         \n",
            "                                                                 \n",
            " dense_1 (Dense)             (None, 1)                 65        \n",
            "                                                                 \n",
            " activation_1 (Activation)   (None, 1)                 0         \n",
            "                                                                 \n",
            "=================================================================\n",
            "Total params: 18,176,969\n",
            "Trainable params: 18,176,969\n",
            "Non-trainable params: 0\n",
            "_________________________________________________________________\n",
            "None\n",
            "Epoch 1/5\n",
            "704/704 [==============================] - 15s 16ms/step - loss: 0.5363 - accuracy: 0.7298 - val_loss: 0.4804 - val_accuracy: 0.7591\n",
            "Epoch 2/5\n",
            "704/704 [==============================] - 11s 15ms/step - loss: 0.4594 - accuracy: 0.7853 - val_loss: 0.4635 - val_accuracy: 0.7772\n",
            "Epoch 3/5\n",
            "704/704 [==============================] - 11s 15ms/step - loss: 0.4109 - accuracy: 0.8152 - val_loss: 0.4627 - val_accuracy: 0.7747\n",
            "Epoch 4/5\n",
            "704/704 [==============================] - 11s 16ms/step - loss: 0.3660 - accuracy: 0.8386 - val_loss: 0.4952 - val_accuracy: 0.7786\n",
            "Epoch 5/5\n",
            "704/704 [==============================] - 11s 16ms/step - loss: 0.3261 - accuracy: 0.8596 - val_loss: 0.5148 - val_accuracy: 0.7718\n"
          ]
        }
      ]
    },
    {
      "cell_type": "markdown",
      "source": [
        "### **CNN.py**"
      ],
      "metadata": {
        "id": "ri4ymnI6-2ip"
      }
    },
    {
      "cell_type": "code",
      "source": [
        "!python3 /content/drive/MyDrive/FX_ML/Twitter-Sentiment-Analysis-main/code/cnn.py"
      ],
      "metadata": {
        "colab": {
          "base_uri": "https://localhost:8080/"
        },
        "id": "c50FNjiv6sb2",
        "outputId": "afde2c50-7f13-4cf3-a8e3-5cf4f6a23715"
      },
      "execution_count": 28,
      "outputs": [
        {
          "output_type": "stream",
          "name": "stdout",
          "text": [
            "Looking for GLOVE seeds\n",
            "Processing 400000/0\n",
            "\n",
            "Generating feature vectors\n",
            "Processing 100000/100000\n",
            "\n",
            "2022-01-23 12:31:19.608356: W tensorflow/core/common_runtime/gpu/gpu_bfc_allocator.cc:39] Overriding allow_growth setting because the TF_FORCE_GPU_ALLOW_GROWTH environment variable is set. Original config value was 0.\n",
            "Epoch 1/8\n",
            "704/704 [==============================] - 26s 25ms/step - loss: 0.5336 - accuracy: 0.7247 - val_loss: 0.4700 - val_accuracy: 0.7733\n",
            "Epoch 2/8\n",
            "704/704 [==============================] - 17s 24ms/step - loss: 0.4497 - accuracy: 0.7885 - val_loss: 0.4539 - val_accuracy: 0.7816\n",
            "Epoch 3/8\n",
            "704/704 [==============================] - 17s 25ms/step - loss: 0.4007 - accuracy: 0.8179 - val_loss: 0.4575 - val_accuracy: 0.7816\n",
            "Epoch 4/8\n",
            "704/704 [==============================] - 17s 25ms/step - loss: 0.3492 - accuracy: 0.8454 - val_loss: 0.4775 - val_accuracy: 0.7777\n",
            "Epoch 5/8\n",
            "704/704 [==============================] - 18s 25ms/step - loss: 0.3090 - accuracy: 0.8647 - val_loss: 0.5160 - val_accuracy: 0.7735\n",
            "Epoch 6/8\n",
            "704/704 [==============================] - 17s 25ms/step - loss: 0.2740 - accuracy: 0.8827 - val_loss: 0.5650 - val_accuracy: 0.7675\n",
            "Epoch 7/8\n",
            "704/704 [==============================] - 17s 25ms/step - loss: 0.2478 - accuracy: 0.8934 - val_loss: 0.6251 - val_accuracy: 0.7671\n",
            "Epoch 8/8\n",
            "704/704 [==============================] - 17s 25ms/step - loss: 0.2199 - accuracy: 0.9067 - val_loss: 0.6319 - val_accuracy: 0.7583\n"
          ]
        }
      ]
    }
  ]
}