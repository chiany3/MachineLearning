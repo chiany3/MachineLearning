{
  "nbformat": 4,
  "nbformat_minor": 0,
  "metadata": {
    "colab": {
      "name": "Latihan Machine Learning (Random Forest).ipynb",
      "provenance": [],
      "authorship_tag": "ABX9TyMnP4/Sb7cxJ7FIngVIntdf",
      "include_colab_link": true
    },
    "kernelspec": {
      "name": "python3",
      "display_name": "Python 3"
    },
    "language_info": {
      "name": "python"
    }
  },
  "cells": [
    {
      "cell_type": "markdown",
      "metadata": {
        "id": "view-in-github",
        "colab_type": "text"
      },
      "source": [
        "<a href=\"https://colab.research.google.com/github/chiany3/MachineLearning/blob/main/Latihan_Machine_Learning_(Random_Forest).ipynb\" target=\"_parent\"><img src=\"https://colab.research.google.com/assets/colab-badge.svg\" alt=\"Open In Colab\"/></a>"
      ]
    },
    {
      "cell_type": "code",
      "metadata": {
        "colab": {
          "base_uri": "https://localhost:8080/"
        },
        "id": "RvbmOBeCAhnV",
        "outputId": "faf70e39-83e4-472a-f4cd-2363c37b88b7"
      },
      "source": [
        "from google.colab import drive\n",
        "drive.mount('/content/drive')"
      ],
      "execution_count": 2,
      "outputs": [
        {
          "output_type": "stream",
          "name": "stdout",
          "text": [
            "Drive already mounted at /content/drive; to attempt to forcibly remount, call drive.mount(\"/content/drive\", force_remount=True).\n"
          ]
        }
      ]
    },
    {
      "cell_type": "code",
      "metadata": {
        "id": "dA5uCg_vJx0C"
      },
      "source": [
        "import pandas as pd\n",
        "    \n",
        "# Load data\n",
        "melbourne_file_path = '/content/drive/MyDrive/melb_data.csv'\n",
        "melbourne_data = pd.read_csv(melbourne_file_path) \n",
        "# Filter rows with missing values\n",
        "melbourne_data = melbourne_data.dropna(axis=0)\n",
        "# Choose target and features\n",
        "y = melbourne_data.Price\n",
        "melbourne_features = ['Rooms', 'Bathroom', 'Landsize', 'BuildingArea', \n",
        "                        'YearBuilt', 'Lattitude', 'Longtitude']\n",
        "X = melbourne_data[melbourne_features]\n",
        "\n",
        "from sklearn.model_selection import train_test_split\n",
        "\n",
        "# split data into training and validation data, for both features and target\n",
        "# The split is based on a random number generator. Supplying a numeric value to\n",
        "# the random_state argument guarantees we get the same split every time we\n",
        "# run this script.\n",
        "train_X, val_X, train_y, val_y = train_test_split(X, y,random_state = 0)"
      ],
      "execution_count": 3,
      "outputs": []
    },
    {
      "cell_type": "code",
      "metadata": {
        "id": "gi4eCWUoJ6PA",
        "outputId": "6a17c7eb-52c0-4a35-ea83-a2393b757700",
        "colab": {
          "base_uri": "https://localhost:8080/"
        }
      },
      "source": [
        "from sklearn.ensemble import RandomForestRegressor\n",
        "from sklearn.metrics import mean_absolute_error\n",
        "\n",
        "forest_model = RandomForestRegressor(random_state=1)\n",
        "forest_model.fit(train_X, train_y)\n",
        "melb_preds = forest_model.predict(val_X)\n",
        "print(mean_absolute_error(val_y, melb_preds))"
      ],
      "execution_count": 4,
      "outputs": [
        {
          "output_type": "stream",
          "name": "stdout",
          "text": [
            "191669.7536453626\n"
          ]
        }
      ]
    }
  ]
}
